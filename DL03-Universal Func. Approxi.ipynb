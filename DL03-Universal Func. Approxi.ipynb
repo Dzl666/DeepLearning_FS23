{
 "cells": [
  {
   "attachments": {},
   "cell_type": "markdown",
   "metadata": {},
   "source": [
    "# Assignment 3: Universal Function Approximator\n",
    "\n",
    "\n",
    "The goal of this exercise is to train a two-layer fully-connected network to perform one-dimensional non-linear regression via gradient descent. To show the flexibility of the approach, three different functions will be approximated. First, the network and its gradient need to be implemented. Second, target data for three different functions will be generated. Finally, the training procedure will be applied to the data, and the resulting approximated function will be plotted together with the data samples.\n",
    "\n",
    "## Network Implementation\n",
    "\n",
    "A two-layer network is defined by parameters $\\Theta=(\\mathbf W^{(1)},\\vec w^{(2)})$ that are split into $\\mathbf W^{(1)}\\in\\mathbb R^{K\\times {(D+1)}}$ for the first layer and $\\vec w^{(2)}\\in\\mathbb R^{K+1}$ for the second layer. In our case, since we have only a single input, we have $D=1$.\n",
    "For a given input $\\vec x = (1, x)^T$, the network is implemented in three steps:\n",
    "\n",
    "1. Compute the first layer output, aka, the activation: $\\vec a_- = \\mathbf W^{(1)} \\vec x$\n",
    "2. Apply the activation function for each element of $\\vec a_- : \\vec h_- = g(\\vec a_-)$ and prepend the bias neuron $h_0=1$ to arrive at $\\vec h$.\n",
    "3. Compute the output of the network: $y = \\vec w^{(2)}\\ ^T\\vec h$.\n",
    "\n",
    "### Task 1  \n",
    "Implement a function that returns the network output for a given input $\\vec x$ and parameters $\\Theta=(\\mathbf W^{(1)}, \\vec w^{(2)})$. Remember that the input of the function $\\vec x = (1, x)^T$. Also remember to prepend $h_0=1$ in your implementation.\n",
    "\n",
    "We use hyperbolic tangent $(\\tanh)$ as the activation function:\n",
    "\n",
    "\\begin{equation*}\n",
    "    \\tanh(a) = \\frac{e^{a}-e^{-a}}{e^{a}+e^{-a}}\n",
    "\\end{equation*}\n",
    "\n",
    "Note:\n",
    "\n",
    "1. Use the `numpy` implemention of the hyperbolic tangent function.\n",
    "2. Use `numpy.concatenate` or `numpy.insert` to prepend $h_0$.\n",
    "3. Make use of `numpy.dot` to compute matrix-vector and vector-vector products."
   ]
  },
  {
   "cell_type": "code",
   "execution_count": 2,
   "metadata": {},
   "outputs": [],
   "source": [
    "import numpy as np\n",
    "import math\n",
    "\n",
    "def network(x, Theta):\n",
    "  W1, w2 = Theta\n",
    "  a_ = W1 @ x # [K, D+1] @ [D+1, N] = [K, N]\n",
    "  h_ = np.tanh(a_)\n",
    "  h = np.insert(h_, 0, 1, axis=0) # [K+1, N]\n",
    "  y = np.dot(h.T, w2) # [N, K+1].dot[K+1] = 1\n",
    "  return y, h"
   ]
  },
  {
   "attachments": {},
   "cell_type": "markdown",
   "metadata": {},
   "source": [
    "Test 1: Sanity Check\n",
    "----------------------------\n",
    "\n",
    "We select a specific number of hidden neurons and create the weights accordingly, using all zeros in the first layer and all ones in the second. The test case below assures that the function from Task 1 actually returns $1$ for those weights."
   ]
  },
  {
   "cell_type": "code",
   "execution_count": 3,
   "metadata": {},
   "outputs": [
    {
     "name": "stdout",
     "output_type": "stream",
     "text": [
      "Test passed\n"
     ]
    }
   ],
   "source": [
    "K = 20\n",
    "D = 1\n",
    "W1 = np.zeros((K, D+1))\n",
    "w2 = np.ones(K+1)\n",
    "x = np.random.rand(D+1)\n",
    "y, _ = network(x, (W1, w2))\n",
    "assert abs(1 - y) < 1e-6\n",
    "print(\"Test passed\")"
   ]
  },
  {
   "attachments": {},
   "cell_type": "markdown",
   "metadata": {},
   "source": [
    "## Gradient Implementation\n",
    "\n",
    "In order to perform gradient descent, we need to define a loss function. As provided in the lecture, the $\\mathcal J^{L_2}$ loss function is defined over a dataset $X=\\{(\\vec x^{[n]}, t^{[n]})\\}$, that is defined as a list of tuples, as follows:\n",
    "\n",
    "$$\n",
    "   \\mathcal J^{L_2} = \\frac{1}{N}\\sum_{i=1}^N (y^{[n]}-t^{[n]})^2\n",
    "$$\n",
    "\n",
    "where $y^{[n]}$ is the output of the network from Task 1 when inputting $\\vec x^{[n]}$. Interestingly, however, we never explicitly need to compute the output of the loss function. It is only used to analytically compute the gradient as shown in the lecture.\n",
    "\n",
    "The gradient is composed of two items, one for each layer. Particularly, for a given dataset $X$, the gradient of loss $J^{L_2}$ is defined as:\n",
    "\n",
    "\\begin{align}\n",
    "  \\frac{\\partial \\mathcal J}{\\partial w_{kd}^{(1)}} &= \\frac{2}{N} \\sum\\limits_{n=1}^N (y^{[n]}-t^{[n]}) w_{k}^{(2)} (1-h_{k}^{[n]}\\cdot h_{k}^{[n]}) x_{d}^{[n]}\\\\\n",
    "  \\frac{\\partial \\mathcal J}{\\partial w_{k}^{(2)}} &= \\frac{2}{N} \\sum\\limits_{n=1}^N (y^{[n]}-t^{[n]}) h_{k}^{[n]}\n",
    "\\end{align}\n",
    "\n",
    "### Task 2\n",
    "Implement a function that returns the gradient as defined in $(1)$ and $(2)$ for a given dataset $X$, and given weights $\\Theta=(\\mathbf W^{(1)},\\vec w^{(2)})$. Make sure that both parts of the gradient are computed. \n",
    "\n",
    "Note:\n",
    "\n",
    "  1. This is a slow implementation. We will see how to speed this up in the next lecture.\n",
    "  2. You can make use of `numpy.zeros` to initialize the gradient.\n",
    "  3. The outper product can be computed via `numpy.outer`.\n",
    "  4. Remember that we used the $\\tanh$ activation function in our network."
   ]
  },
  {
   "cell_type": "code",
   "execution_count": 23,
   "metadata": {},
   "outputs": [],
   "source": [
    "def gradient(DATA, Theta):\n",
    "  # split parameters for easier handling\n",
    "  W1, w2 = Theta\n",
    "  # define gradient with respect to both parameters\n",
    "  D = W1.shape[1]\n",
    "  K = w2.shape[0] # K + 1\n",
    "  N = len(DATA)\n",
    "  X = np.zeros((D, N))\n",
    "  T = np.zeros(N)\n",
    "  data_cnt = 0\n",
    "\n",
    "  # iterate over dataset\n",
    "  for x, t in DATA:\n",
    "    # compute the gradient\n",
    "    X[:, data_cnt] = x\n",
    "    T[data_cnt] = t\n",
    "    data_cnt += 1\n",
    "    \n",
    "  # anything else?\n",
    "  Y, H = network(X, Theta) # y: N, H: [K+1, N]\n",
    "  # [K+1] x [N] -> [K+1, N] * [K+1, N] -> [K+1, N] @ [N, D+1] -> [K+1, D+1]\n",
    "  dW1 = (np.outer(w2, (Y-T)) * (1-H**2)) @ X.T\n",
    "  dw2 = H @ (Y-T) # [K+1, N] @ N = K+1\n",
    "  \n",
    "  return dW1[1:]*2/N, dw2*2/N"
   ]
  },
  {
   "attachments": {},
   "cell_type": "markdown",
   "metadata": {},
   "source": [
    "## Gradient Descent\n",
    "\n",
    "The procedure of gradient descent is the repeated application of two steps.\n",
    " \n",
    "1. The gradient of loss $\\nabla_{\\Theta}\\mathcal J^{L_2}$ is computed based on the current value of the parameters $\\Theta=(\\mathbf W^{(1)},\\vec w^{(2)})$.\n",
    "2. The weights are updated by moving a small step $\\eta$ into the direction of the negative gradient:\n",
    "\n",
    "$$\n",
    "    \\Theta = \\Theta - \\eta \\nabla_{\\Theta}\\mathcal J\n",
    "$$\n",
    "\n",
    "As stopping criterion, we select the number of training epochs to be 10000.\n",
    "\n",
    "### Task 3\n",
    "Implement a function that performs gradient descent for a given dataset $X$, given initial parameters $\\Theta$ and a given learning rate $\\eta$ and returns the optimized parameters $\\Theta^*$."
   ]
  },
  {
   "cell_type": "code",
   "execution_count": 5,
   "metadata": {},
   "outputs": [],
   "source": [
    "def gradient_descent(X, Theta, eta):\n",
    "  epochs = 10000\n",
    "  W1, w2 = Theta\n",
    "  # perform iterative gradient descent\n",
    "  for epoch in range(epochs):\n",
    "    # compute the gradient\n",
    "    dW1, dw2 = gradient(X, (W1, w2))\n",
    "    # update the parameters\n",
    "    W1 = W1 - eta* dW1\n",
    "    w2 = w2 - eta* dw2\n",
    "    # if epoch % 2000 == 0 and epoch > 0:\n",
    "    #   print(f\"Epoch {epoch}.\")\n",
    "\n",
    "  # return optimized parameters\n",
    "  return (W1, w2)"
   ]
  },
  {
   "attachments": {},
   "cell_type": "markdown",
   "metadata": {},
   "source": [
    "## Generate Datasets\n",
    "\n",
    "In total, we will test our gradient descent function with three different datasets. Particularly, we approximate:\n",
    "\n",
    "1. $X_1: t = \\sin(2x)$ for $x\\in[-2,2]$\n",
    "2. $X_2: t = e^{-2x^2}$ for $x\\in[-2,2]$\n",
    "3. $X_3: t = -x^5 - 3x^4 + 11x^3 + 27x^2 - 10x - 64$ for $x\\in[-4.5,3.5]$\n",
    "\n",
    "### Task 4\n",
    "\n",
    "Generate dataset $X_1$, for $N=50$ samples randomly drawn from range $x\\in[-2,2]$. \n",
    "Generate data $X_2$ for $N=30$ samples randomly drawn from range $x\\in[-2,2]$. \n",
    "Generate dataset $X_3$ for $N=200$ samples randomly drawn from range $x\\in[-4.5,3.5]$. \n",
    "Implement all three datasets as lists of tuples: $\\{(\\vec x^{[n]}, t^{[n]})\\mid 1\\leq n\\leq N\\}$.\n",
    "\n",
    "Note:\n",
    "\n",
    "  1. You can use `numpy.random.uniform` to create uniformly distributed samples for $x$.\n",
    "  2. Make sure that $\\vec x = (1, x)^T$ for each sample.\n",
    "  3. You can make use of `numpy.sin`, `numpy.exp` and `numpy.pow` to compute target values."
   ]
  },
  {
   "cell_type": "code",
   "execution_count": 6,
   "metadata": {},
   "outputs": [],
   "source": [
    "# should be list of tuple (x, t)\n",
    "N = 50\n",
    "x = np.random.uniform(-2., 2., N)\n",
    "t = np.sin(2 * x)\n",
    "x = np.vstack((np.ones(N), x))\n",
    "X1 = []\n",
    "for i in range(N):\n",
    "    X1.append((x[:,i], t[i]))\n",
    "N = 30\n",
    "x = np.random.uniform(-2., 2., N)\n",
    "t = np.exp(-2 * x**2)\n",
    "x = np.vstack((np.ones(N), x))\n",
    "X2 = []\n",
    "for i in range(N):\n",
    "    X2.append((x[:, i], t[i]))\n",
    "N = 200\n",
    "x = np.random.uniform(-4.5, 3.5, N)\n",
    "t = -1* x**5 - 3* x**4 + 11* x**3 + 27* x**2 - 10* x - 64\n",
    "x = np.vstack((np.ones(N), x))\n",
    "X3 = []\n",
    "for i in range(N):\n",
    "    X3.append((x[:,i], t[i]))\n"
   ]
  },
  {
   "attachments": {},
   "cell_type": "markdown",
   "metadata": {},
   "source": [
    "### Test 2: Sanity Check\n",
    "\n",
    "The test case below assures that the elements of each generated dataset are tuples with two elements, that the first element ($\\vec x$) is a vector with two numbers, and that the second element ($t$) is a float."
   ]
  },
  {
   "cell_type": "code",
   "execution_count": 7,
   "metadata": {},
   "outputs": [
    {
     "name": "stdout",
     "output_type": "stream",
     "text": [
      "Test passed!\n"
     ]
    }
   ],
   "source": [
    "assert all(\n",
    "    isinstance(x, (tuple,list)) and \n",
    "    len(x) == 2 and \n",
    "    isinstance(x[0], (tuple,list,np.ndarray)) and \n",
    "    len(x[0]) == 2 and \n",
    "    isinstance(x[1], float)\n",
    "    for X in (X1, X2, X3)\n",
    "    for x in X\n",
    ")\n",
    "\n",
    "print('Test passed!')"
   ]
  },
  {
   "attachments": {},
   "cell_type": "markdown",
   "metadata": {},
   "source": [
    "## Function Approximation\n",
    "\n",
    "Finally, we want to make use of our gradient descent implementation to approximate our functions. In order to see our success, we want to plot the functions together with the data.\n",
    "\n",
    "### Task 5 (theoretical question)\n",
    "\n",
    "When looking at the example plots in the exercise slides (exemplary solutions for the plotting Task 8), how many hidden neurons $K$ do we need in order to approximate the functions? Is there any difference\n",
    "1 between the three target functions?"
   ]
  },
  {
   "cell_type": "code",
   "execution_count": 8,
   "metadata": {},
   "outputs": [],
   "source": [
    "K1 = 4\n",
    "K2 = 3\n",
    "K3 = 50"
   ]
  },
  {
   "attachments": {},
   "cell_type": "markdown",
   "metadata": {},
   "source": [
    "### Task 6\n",
    "\n",
    "For each of the datasets, randomly initialize the parameters $\\Theta_1,\\Theta_2,\\Theta_3\\in[-1,1]$ according to the number of hidden neurons estimated in Task 5.\n",
    "\n",
    "Note:\n",
    "\n",
    "  1. You can use `numpy.random.uniform` to initialize the weights.\n",
    "  2. Make sure that the weight matrices are instantiated in the correct dimensions."
   ]
  },
  {
   "cell_type": "code",
   "execution_count": 9,
   "metadata": {},
   "outputs": [],
   "source": [
    "# np.random.seed(0)\n",
    "Theta1 = (np.random.uniform(-1, 1, (K1, D+1)),\n",
    "          np.random.uniform(-1, 1, K1+1))\n",
    "Theta2 = (np.random.uniform(-1, 1, (K2, D+1)),\n",
    "          np.random.uniform(-1, 1, K2+1))\n",
    "Theta3 = (np.random.uniform(-1, 1, (K3, D+1)),\n",
    "          np.random.uniform(-1, 1, K3+1))"
   ]
  },
  {
   "attachments": {},
   "cell_type": "markdown",
   "metadata": {},
   "source": [
    "### Task 7\n",
    "\n",
    "Call gradient descent function from Task 3 using the datasets $X_1, X_2, X_3$, the according created parameters $\\Theta_1,\\Theta_2,\\Theta_3$ and a learning rate of $\\eta=0.1$. Store the resulting optimized weights $\\Theta_1^*, \\Theta_2^*, \\Theta_3^*$ and the loss values.\n",
    "\n",
    "Optimize the learning rate $\\eta$ for each of the three functions. Do you see any differences? What are the best learning rates that you can find?\n",
    "\n",
    "WARNING: Depending on the implementation, this might run for several minutes!"
   ]
  },
  {
   "cell_type": "code",
   "execution_count": 24,
   "metadata": {},
   "outputs": [
    {
     "name": "stdout",
     "output_type": "stream",
     "text": [
      "Theta 1: (array([[-1.70333737, -1.15817134],\n",
      "       [-0.60083157,  0.47748127],\n",
      "       [ 1.49716955, -1.0438848 ],\n",
      "       [ 0.0465689 , -1.03949906]]), array([-0.30779109,  1.95349965, -1.1290252 ,  1.83836724, -2.93774768]))\n",
      "Theta 2: (array([[-0.59235478,  1.68223776],\n",
      "       [ 0.11979658,  0.02755945],\n",
      "       [ 0.60748892,  1.74695454]]), array([-0.09660899, -0.97487944,  0.61347848,  0.94581504]))\n",
      "Theta 3: (array([[  2.42961844,  -2.66359705],\n",
      "       [ 12.61534658,   2.99008182],\n",
      "       [  9.01136887,  -3.15640506],\n",
      "       [-10.46087544,   3.29963579],\n",
      "       [ -0.9975202 ,  -2.18170831],\n",
      "       [  8.53723187,   1.8487878 ],\n",
      "       [ 12.90828766,   3.02753646],\n",
      "       [  2.23580751,   0.03857544],\n",
      "       [-10.88044298,   3.40917416],\n",
      "       [ -2.08431457,   2.23246948],\n",
      "       [ -6.35888145,  -2.32440003],\n",
      "       [ -8.59429374,  -1.85803255],\n",
      "       [  7.26723644,  -2.48476799],\n",
      "       [-11.38698986,  -2.8168725 ],\n",
      "       [  9.97068641,   2.21398374],\n",
      "       [ 10.27878326,  -3.25335617],\n",
      "       [ -7.52307665,  -1.58099441],\n",
      "       [ 10.63789753,   2.39330195],\n",
      "       [  7.15490982,   1.48635771],\n",
      "       [  1.74415533,  -1.82180639],\n",
      "       [ 14.16254264,   3.28357267],\n",
      "       [ -3.75223034,   2.34897426],\n",
      "       [  2.4131583 ,  -2.6977674 ],\n",
      "       [ -5.36357452,  -2.51404598],\n",
      "       [  2.34846228,   0.04161751],\n",
      "       [  2.58433596,  -2.61701724],\n",
      "       [ -9.55900414,  -2.10963898],\n",
      "       [ 10.6893245 ,  -3.35885367],\n",
      "       [ 11.99555638,   2.93053916],\n",
      "       [ -2.46056902,   2.66918926],\n",
      "       [-14.00835086,  -3.24886568],\n",
      "       [ -4.85013788,   2.71591447],\n",
      "       [  2.26147149,   2.70115683],\n",
      "       [ 17.2622717 ,  -5.21733481],\n",
      "       [  3.22537206,  -1.17140761],\n",
      "       [ -4.07206537,   2.43928294],\n",
      "       [  1.02179896,   2.11844162],\n",
      "       [ -5.95399291,  -2.22310701],\n",
      "       [ -3.23668454,  -0.1071032 ],\n",
      "       [  3.80656091,  -2.36309927],\n",
      "       [ -7.92770731,   2.71076761],\n",
      "       [  3.53764338,  -2.29820759],\n",
      "       [ -5.64551892,  -2.15648683],\n",
      "       [ -2.25585836,   2.52542292],\n",
      "       [ 15.38749102,  -4.67460607],\n",
      "       [ -4.66141876,   2.64354041],\n",
      "       [ -6.53421534,  -2.37120522],\n",
      "       [  4.81793389,   2.14582925],\n",
      "       [ -3.8507297 ,   2.3749321 ],\n",
      "       [  3.08778249,  -2.24663562]]), array([ -8.1703401 ,  -3.20099479, -13.34060193,  13.2125618 ,\n",
      "       -15.55310813,   3.97000045,  -9.92311161, -13.66070947,\n",
      "        -5.53171597, -16.00216951,   2.04269481,  -6.57152532,\n",
      "        10.17000471,   9.79299984,  12.07882163, -11.0299173 ,\n",
      "        15.27097283,   9.50342778, -11.3609032 ,  -9.21405367,\n",
      "        -1.12738364, -15.1803576 ,   4.29087694,  -3.33269693,\n",
      "        -5.21363117,  -5.64934166,  -3.44785441,  10.68679946,\n",
      "        15.72963997, -12.70467834,   3.28487488,  14.98414425,\n",
      "         5.82975053,  -9.0174511 ,  28.43872622,   4.70873427,\n",
      "         4.7348014 ,  -3.68414889,  -5.93629004,   7.98452791,\n",
      "        -4.41601988, -11.25462783,  -4.06344998,  -5.3764972 ,\n",
      "         2.73199352,  24.23946847,   5.51789266,  -6.92200314,\n",
      "         3.82487291,   4.46048184,  -3.72127972]))\n"
     ]
    }
   ],
   "source": [
    "Theta1_star = gradient_descent(X1, Theta1, 8e-2)\n",
    "print(\"Theta 1:\", Theta1_star)\n",
    "Theta2_star = gradient_descent(X2, Theta2, 1e-1)\n",
    "print(\"Theta 2:\", Theta2_star)\n",
    "Theta3_star = gradient_descent(X3, Theta3, 8e-4)\n",
    "print(\"Theta 3:\", Theta3_star)"
   ]
  },
  {
   "attachments": {},
   "cell_type": "markdown",
   "metadata": {},
   "source": [
    "## Data and Function Plotting\n",
    "\n",
    "### Task 8\n",
    "\n",
    "Implement a plotting function that takes a given dataset $X$, given parameters $\\Theta$ and a defined range $R$. Each data sample $(x^{[n]},t^{[n]})$ of the dataset is plotted as an $''x''$. In order to plot the function that is approximated by the network, generate sufficient equally-spaced input values $x\\in R$, compute the network output $y$ for these inputs, and plot them with a line.\n",
    "\n",
    "Note:\n",
    "\n",
    "  1. The dataset $X$ is defined as above, a list of tuples $(\\vec x, t)$.\n",
    "  2. Each input in the dataset is defined as $\\vec x = (1,x)^T$.\n",
    "  3. Equidistant points can be obtained via `numpy.arange`."
   ]
  },
  {
   "cell_type": "code",
   "execution_count": 25,
   "metadata": {},
   "outputs": [],
   "source": [
    "from matplotlib import pyplot\n",
    "def plot(X, Theta, R):\n",
    "  # first, plot data samples\n",
    "  Xarr = []\n",
    "  tarr = []\n",
    "  for x_data, t in X:\n",
    "    Xarr.append(x_data[1])\n",
    "    tarr.append(t)\n",
    "  pyplot.plot(Xarr, tarr, \"rx\", label=\"Data\")\n",
    "\n",
    "  # define equidistant points from R[0] to R[1] to evaluate the network\n",
    "  x_mesh = np.linspace(R[0], R[1], 100)\n",
    "  # compute the network outputs for these values\n",
    "  y = network(np.vstack((np.ones_like(x_mesh), x_mesh)), Theta)[0]\n",
    "  # y = [network([1, x], Theta)[0] for x in x_mesh]\n",
    "  pyplot.plot(x_mesh, y, \"k-\", label=\"network\")\n",
    "  pyplot.legend()"
   ]
  },
  {
   "attachments": {},
   "cell_type": "markdown",
   "metadata": {},
   "source": [
    "### Task 9\n",
    "\n",
    "For each of the datasets and their according optimized parameters, call the plotting function from Task 8. Use range $R=[-3,3]$ for dataset $X_1$ and $X_2$, and range $R=[-5.5,4.5]$ for dataset $X_3$. Note that the first element of range $R$ should be the lowest $x$-location, and the second element of $R$ the highest value for $x$. Did the networks approximate the functions? What can we do if not?"
   ]
  },
  {
   "cell_type": "code",
   "execution_count": 26,
   "metadata": {},
   "outputs": [
    {
     "data": {
      "image/png": "[encoded data removed]",
      "text/plain": [
       "<Figure size 1500x400 with 3 Axes>"
      ]
     },
     "metadata": {},
     "output_type": "display_data"
    }
   ],
   "source": [
    "figure = pyplot.figure(figsize=(15,4))\n",
    "\n",
    "# plot first function\n",
    "pyplot.subplot(131)\n",
    "plot(X1, Theta1_star, [-2.2, 2.2])\n",
    "# plot second function\n",
    "pyplot.subplot(132)\n",
    "plot(X2, Theta2_star, [-2.2, 2.2])\n",
    "# plot third function\n",
    "pyplot.subplot(133)\n",
    "plot(X3, Theta3_star, [-4.8, 3.8])\n"
   ]
  }
 ],
 "metadata": {
  "interpreter": {
   "hash": "2dd53f8ad749bca69f7250ce75eb4f0def59db5cf79075a9716322ffc58e8a2e"
  },
  "kernelspec": {
   "display_name": "Python 3 (ipykernel)",
   "language": "python",
   "name": "python3"
  },
  "language_info": {
   "codemirror_mode": {
    "name": "ipython",
    "version": 3
   },
   "file_extension": ".py",
   "mimetype": "text/x-python",
   "name": "python",
   "nbconvert_exporter": "python",
   "pygments_lexer": "ipython3",
   "version": "3.10.7"
  },
  "orig_nbformat": 4
 },
 "nbformat": 4,
 "nbformat_minor": 2
}
