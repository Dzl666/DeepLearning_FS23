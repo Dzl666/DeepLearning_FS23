{
 "cells": [
  {
   "attachments": {},
   "cell_type": "markdown",
   "metadata": {},
   "source": [
    "# Assignment 10: Learn to Write Like Shakespeare\n",
    "\n",
    "In this assignment we will implement a simple recurrent network with one hidden layer.\n",
    "We train this network on a medium-size poem \"The Sonnet\" written by William Shakespeare and use it for auto-completing sentences/phrases.\n",
    "\n",
    "For training the network, we will need to transform the text into something machine-processable.\n",
    "Basically, for each of the characters in the text, we provide a $D$-element one-hot encoding vector, where D is the total number of unique characters in the dataset.\n",
    "Character sequences of length $S$ will, hence, be turned into matrices of size $\\mathbf X = \\{\\vec x^{\\{s\\}}, 1 \\leq s\\leq S\\} \\in \\mathbb R^{S\\times D}$.\n",
    "For each input, we provide the target values $\\mathbf T$ of the same size, where the target for each sample is the next character: $\\vec t^{\\{s\\}} = \\vec x ^{\\{s+1\\}}$.\n",
    "\n",
    "To speed up processing, these sequences will be put into batches, i.e., $\\mathcal X, \\mathcal T \\in \\mathbb R^{B\\times S\\times D}$.\n",
    "This will automatically be achieved using the default PyTorch `DataLoader`.\n",
    "\n",
    "The data that we will use is originally provided here: http://raw.githubusercontent.com/brunoklein99/deep-learning-notes/master/shakespeare.txt"
   ]
  },
  {
   "attachments": {},
   "cell_type": "markdown",
   "metadata": {},
   "source": [
    "## Data and Targets Preprocessing\n",
    "\n",
    "First, we need to load the whole dataset $\\vec c \\in \\mathbb R^N$, a vector of characters, and turn the data sequence into one-hot encodings.\n",
    "For this purpose, we need to know the number $D$ of unique characters in our text.\n",
    "For simplicity, we only consider lower-case characters and special symbols such as punctuation marks.\n",
    "Also, the newline characters `'\\n'` need to be handled -- you can also leave them inside and see what happens.\n",
    "\n",
    "Then, for each of the characters, we need to assign a one-hot encoding, and build sequences of encodings.\n",
    "For a given index $n$ into our data and a given sequence length $S$, we provide the input $\\mathbf X ^{[n]}$ and the target $\\mathbf T^{[n]}$ as follows:\n",
    "\n",
    "\n",
    "  $$\\mathbf X^{[n]} = \\{\\mathrm{enc}(n-S+s-1) | 1 \\leq s \\leq S\\}$$\n",
    "  $$\\mathbf T^{[n]} = \\{\\mathrm{enc}(n-S+s) | 1 \\leq s \\leq S\\}$$\n",
    "\n",
    "where $\\mathrm{enc}$ is a function that returns the one-hot encoding for the character at the specified location in the original dataset $\\vec c$. \n",
    "In the case that the computation ($n-S+s-1$ or $n-S+s$) results in a negative value $\\vec 0$ should be used instead. \n",
    "\n",
    "For example, for the original text `abcde`, sequence length $S=7$ and index $n=4$, we would have the representations for $x = $ `000abcd` and $t=$ `00abcde`.\n",
    "\n",
    "Finally, we implement our own `Dataset` that returns the input and target encodings for any element of our input text."
   ]
  },
  {
   "attachments": {},
   "cell_type": "markdown",
   "metadata": {},
   "source": [
    "### Download the data file\n",
    "\n",
    "Please run the code block below to download the data file."
   ]
  },
  {
   "cell_type": "code",
   "execution_count": 3,
   "metadata": {},
   "outputs": [],
   "source": [
    "import os\n",
    "import random\n",
    "import torch\n",
    "\n",
    "device = torch.device(\"cuda\" if torch.cuda.is_available() else \"cpu\")\n",
    "\n",
    "# download the data file\n",
    "filename = \"shakespeare.txt\"\n",
    "if not os.path.exists(filename):\n",
    "  url = \"http://raw.githubusercontent.com/brunoklein99/deep-learning-notes/master/\"\n",
    "  import urllib.request\n",
    "  urllib.request.urlretrieve(url+filename, filename)\n",
    "  print (\"Downloaded datafile\", filename)"
   ]
  },
  {
   "attachments": {},
   "cell_type": "markdown",
   "metadata": {},
   "source": [
    "### Task 1: Data Characteristics\n",
    "\n",
    "Implement a function that:\n",
    "1. Loads all text data from the poem file `shakespeare.txt`, iterates through and collect all the lowercase data that we want to learn from.\n",
    "2. Create a list of unique characters contained in our data. This will allow us to obtain the dimension $D$.\n",
    "\n",
    "Note:\n",
    "* Here, we consider only lowercase characters to reduce the alphabet size. \n",
    "* Please make sure that you handle the newline character at the end of each line consistently.\n"
   ]
  },
  {
   "cell_type": "code",
   "execution_count": 17,
   "metadata": {},
   "outputs": [
    {
     "name": "stdout",
     "output_type": "stream",
     "text": [
      "Collected a total of 91807 elements of 37 unique characters\n"
     ]
    }
   ],
   "source": [
    "# load all data from the text file\n",
    "def get_data(datafile='shakespeare.txt'):\n",
    "    data = []\n",
    "    characters = set()\n",
    "\n",
    "    with open(datafile, 'r') as file:\n",
    "        lines = file.readlines()\n",
    "        for line in lines:\n",
    "            if len(line) == 0:\n",
    "                continue\n",
    "            for c in line:\n",
    "                if c == '\\n' or c.isdigit():\n",
    "                    continue\n",
    "                if c.isupper():\n",
    "                    c = c.lower()\n",
    "                data.append(c)\n",
    "                characters.update(c)\n",
    "\n",
    "    return data, list(characters)\n",
    "\n",
    "data, characters = get_data(datafile='shakespeare.txt')\n",
    "\n",
    "D = len(characters)\n",
    "print (f\"Collected a total of {len(data)} elements of {D} unique characters\")"
   ]
  },
  {
   "attachments": {},
   "cell_type": "markdown",
   "metadata": {},
   "source": [
    "### Task 2: One-hot Encoding\n",
    "\n",
    "Implement a dictionary that provides a unique one-hot encoding for each of the characters in the dataset. \n",
    "The dictionary takes as:\n",
    "\n",
    "1. the key a character\n",
    "2. its value is its one-hot vector representation of dimension $D$\n",
    "\n",
    "Each of the characters need to be represented by a one-hot encoding.\n",
    "Create a dictionary that provides the encoding for each unique character.\n",
    "\n",
    "Note:\n",
    "\n",
    "* You can use your own one-hot encoding procedure for the task."
   ]
  },
  {
   "cell_type": "code",
   "execution_count": 18,
   "metadata": {},
   "outputs": [
    {
     "name": "stdout",
     "output_type": "stream",
     "text": [
      "dict_keys([' ', 'b', 'd', '.', 'f', '(', 'h', 'a', ')', 'n', 'q', '-', 'k', ',', ':', 'o', 't', 's', 'm', 'c', 'j', ';', 'w', \"'\", 'y', 'z', 'l', '!', 'i', 'g', '?', 'u', 'r', 'v', 'p', 'x', 'e'])\n"
     ]
    }
   ],
   "source": [
    "one_hot = dict()\n",
    "\n",
    "for idx, c in enumerate(characters):\n",
    "  embed = torch.zeros(D)\n",
    "  embed[idx] = 1\n",
    "  one_hot[c] = embed\n",
    "\n",
    "print(one_hot.keys())"
   ]
  },
  {
   "attachments": {},
   "cell_type": "markdown",
   "metadata": {},
   "source": [
    "### Task 3: Sequence Coding\n",
    "\n",
    "Write a function that provides the inputs and targets for a given sequence of the specified sequence length and index.\n",
    "The last value of the target sequence should be the encoding of the character at the given index.\n",
    "If a character is requested from outside the data range, prepend the inputs (and the targets) with 0.\n",
    "Assure that $\\vec t^{\\{s\\}} = \\vec x^{\\{s+1\\}}$ $\\forall s<S$."
   ]
  },
  {
   "cell_type": "code",
   "execution_count": 24,
   "metadata": {},
   "outputs": [],
   "source": [
    "def sequence(index, S):\n",
    "  # collect both input and target encodings\n",
    "  inputs, targets = [], []\n",
    "  # go through the sequence and turn characters into encodings\n",
    "  for i in range(index-S, index):\n",
    "    x, t = torch.zeros(D), torch.zeros(D)\n",
    "    if i > 0:\n",
    "      x = one_hot[data[i]]\n",
    "    if i+1 > 0:\n",
    "      t = one_hot[data[i+1]]\n",
    "    inputs.append(x)\n",
    "    targets.append(t)\n",
    "  return torch.stack(inputs), torch.stack(targets)"
   ]
  },
  {
   "attachments": {},
   "cell_type": "markdown",
   "metadata": {},
   "source": [
    "### Test 1: Sequences\n",
    "\n",
    "Get a sequence for size 5 with index 2. This test assures that the data and target vectors are as desired, i.e., the first elements are 0 vectors, and later one-hot encoded data is added."
   ]
  },
  {
   "cell_type": "code",
   "execution_count": 25,
   "metadata": {},
   "outputs": [],
   "source": [
    "# get sequence\n",
    "x,t = sequence(2,5)\n",
    "\n",
    "# check prepended zeros\n",
    "assert torch.all(x[:4] == 0.)\n",
    "assert torch.all(t[:3] == 0.)\n",
    "\n",
    "# check one-hot encoded inputs and targets\n",
    "assert torch.all(torch.sum(x[4:], axis=1) == 1.)\n",
    "assert torch.all(torch.sum(t[3:], axis=1) == 1.)"
   ]
  },
  {
   "attachments": {},
   "cell_type": "markdown",
   "metadata": {},
   "source": [
    "We use the standard data loader with a batch size of $B=256$. Theoretically, each training sample could have its own sequence length $S$. To enable batch processing, the sequence size must be the same for each element in the batch (otherwise it cannot be transformed as one large tensor). Thus, our dataset needs to have a fixed sequence size $S$. An exact value for $S$ can be selected by yourself.\n",
    "\n",
    "### Task 4: Dataset and Data Loader\n",
    "\n",
    "Implement a `Dataset` class derived from `torch.utils.data.Dataset` that provides $\\mathbf X^{[n]}$ and $\\mathbf T^{[n]}$. Implement three functions:\n",
    "\n",
    "1. The constructor `__init__(self, data, S)` that takes the dataset $\\vec c$ and (initial) sequence length $S$.\n",
    "2. The function `__len__(self)` that returns the number of samples in our dataset.\n",
    "3. Finally the index function `__getitem__(self, index)` that returns the sequences $\\mathbf X^{[n]}$ and $\\mathbf T^{[n]}$ for a given `index`. The function from Task 3 can be used for this.\n",
    "\n",
    "After implementing the `Dataset`, instantiate a `DatLoader` for the dataset with batch size of $B=256$.\n"
   ]
  },
  {
   "cell_type": "code",
   "execution_count": 26,
   "metadata": {},
   "outputs": [],
   "source": [
    "class Dataset(torch.utils.data.Dataset):\n",
    "  def __init__(self, data, S):\n",
    "    # prepare the data as required\n",
    "    self.S = S\n",
    "    self.data = data\n",
    "\n",
    "  def __getitem__(self, index):\n",
    "    # return input and target value for the given index\n",
    "    return sequence(index, self.S)\n",
    "\n",
    "  def __len__(self):\n",
    "    # return the length of this dataset\n",
    "    return len(self.data)\n",
    "\n",
    "# instantiate dataset and data loader for a reasonable sequence length S\n",
    "dataset = Dataset(data, S=10)\n",
    "data_loader = torch.utils.data.DataLoader(dataset, batch_size=256, shuffle=True)"
   ]
  },
  {
   "attachments": {},
   "cell_type": "markdown",
   "metadata": {},
   "source": [
    "### Test 2: Data Sizes\n",
    "\n",
    "Here we check that the shape of the input and target from all batches are appropriate."
   ]
  },
  {
   "cell_type": "code",
   "execution_count": 27,
   "metadata": {},
   "outputs": [],
   "source": [
    "for x,t in data_loader:\n",
    "  dataset.S = random.choice(range(1,20))\n",
    "  assert x.shape[2] == D\n",
    "  assert x.shape == t.shape\n",
    "  assert torch.all(x[:, 1:, :] == t[:, :-1, :])"
   ]
  },
  {
   "attachments": {},
   "cell_type": "markdown",
   "metadata": {},
   "source": [
    "## Elman Network Implementation\n",
    "\n",
    "While there are implementations for recursive networks available in PyTorch, we here attempt our own implementation of the Elman network.\n",
    "The input to our network is a batch of sequences of dimension $\\mathcal X\\in \\mathbb R^{B\\times S\\times D}$.\n",
    "Our network contains three fully-connected layers with dimensions $\\mathbf W^{(1)} \\in \\mathbb R^{K\\times D}$, $\\mathbf W^{(r)} \\in \\mathbb R^{K\\times K}$ and $\\mathbf W^{2} \\in \\mathbb R^{D\\times K}$ (plus bias neurons as handled by PyTorch).\n",
    "The network processing will iterate through our sequence, and processes all elements in the batch simultaneously.\n",
    "First, the hidden activation $\\mathbf H^{\\{0\\}} \\in \\mathbb R^{B,K}$ is initialized with 0.\n",
    "Then, we iterate over $1\\leq s\\leq S$ to process:\n",
    "\n",
    "$\\mathbf A^{\\{s\\}} = \\mathbf W^{(1)} \\mathbf X^{\\{s\\}} + \\mathbf W^{(r)} \\mathbf H^{\\{s-1\\}}$ $~~~~~~~~~$\n",
    "$\\mathbf H^{\\{s\\}}= g\\bigl(\\mathbf A^{\\{s\\}}\\bigr)$ $~~~~~~~~~$ \n",
    "$\\mathbf Z^{\\{s\\}} = \\mathbf W^{(2)} \\mathbf H^{\\{s\\}}$\n",
    "\n",
    "where $g$ is the activation function, `PReLU` in our case, and $\\mathbf X^{\\{s\\}}$ is the data matrix stored as $\\mathcal X_{:,s,:}$. The final output of our network $\\mathcal Z$ is a combination of all $\\mathbf Z^{\\{s\\}}$ matrices in dimension as our input $\\mathcal Z\\in \\mathbb R^{B\\times S\\times D}$.\n",
    "\n",
    "For training, we need to compare the output $\\mathcal Z$ of our network with our target batch $\\mathcal T$. We will make use of the categorical cross-entropy loss as implemented in PyTorch's `torch.nn.CrossEntropyLoss`. In our case, we will implicitly compute:\n",
    "\n",
    "$$\\mathcal J^{CCE} = \\frac1{SB} \\sum\\limits_{b=1}^B \\sum\\limits_{s=1}^S \\sum\\limits_{d=1}^D \\mathcal T_{b,s,d} \\log \\mathcal Y_{b,s,d}$$\n",
    "\n",
    "where $\\mathcal Y_{b,s,d}$ is the result of SoftMax over the dimension $D$, which is the last index of our tensor.\n",
    "As the documentation of `torch.nn.CrossEntropyLoss` states, the SoftMax is always computed across the `second` dimension of the data tensor (which would be $s$ in our case).\n",
    "Hence, we need to make sure to reorder the dimensions of the tensors $\\mathcal X$ and $\\mathcal T$ such that the computation is correct."
   ]
  },
  {
   "attachments": {},
   "cell_type": "markdown",
   "metadata": {},
   "source": [
    "### Task 5: Elman Network Implementation\n",
    "\n",
    "Manually implement an Elman network derived from `torch.nn.Module` class using one fully-connected layer for hidden, recurrent and output units.\n",
    "\n",
    "1. In the constructor, instantiate all required layers and activation functions for the given values of $D$ and $K$.\n",
    "2. In the `forward` function, implement the processing of the input in the Elman network. Make sure that logit values are computed and returned for each element in the sequence. Try to use as much tensor processing as possible. Remember the shape of $\\mathcal X$ is $B\\times S\\times D$, and when going through the sequence, we need to process $\\vec x^{\\{s\\}}$ separately, while working on all batch elements simultaneously.\n",
    "\n",
    "\n",
    "Note:\n",
    "\n",
    "* You can also make use of `torch.nn.RNN` Pytorch module to build the recurrent layer and use a fully connected layer on top to implement the Elman network. However, using this module might not be easy."
   ]
  },
  {
   "cell_type": "code",
   "execution_count": 30,
   "metadata": {},
   "outputs": [],
   "source": [
    "class ElmanNetwork(torch.nn.Module):\n",
    "  def __init__(self, D, K):\n",
    "    super(ElmanNetwork,self).__init__()\n",
    "    self.K = K\n",
    "    self.W1 = torch.nn.Linear(D, K)\n",
    "    self.Wr = torch.nn.Linear(K, K)\n",
    "    self.W2 = torch.nn.Linear(K, D)\n",
    "    self.activation = torch.nn.PReLU()\n",
    "\n",
    "  def forward(self, x):\n",
    "    # get the shape of the data\n",
    "    B, S, D = x.shape\n",
    "    # initialize the hidden vector in the desired size with 0\n",
    "    # remember to put it on the device\n",
    "    h_s = torch.zeros((B, self.K), device=device)\n",
    "    # store all logits (we will need them in the loss function)\n",
    "    Z = torch.empty(x.shape, device=device)\n",
    "    # iterate over the sequence\n",
    "    for s in range(S):\n",
    "      # use current sequence item [B, D]\n",
    "      x_s = x[:, s, :]\n",
    "      # compute recurrent activation [B, K]\n",
    "      a_s = self.W1(x_s) + self.Wr(h_s)\n",
    "      # apply activation function\n",
    "      h_s = self.activation(a_s)\n",
    "      # compute logit values\n",
    "      z = self.W2(h_s)\n",
    "      # store logit value\n",
    "      Z[:,s] = z\n",
    "      \n",
    "    # return logits for all sequence elements\n",
    "    return Z"
   ]
  },
  {
   "attachments": {},
   "cell_type": "markdown",
   "metadata": {},
   "source": [
    "### Test 3: Network Output\n",
    "\n",
    "We instantiate an Elman network with $K=1000$ hidden units.\n",
    "We generate test samples in a given format, and forward them through the network and assure that the results are in the required dimensionality."
   ]
  },
  {
   "cell_type": "code",
   "execution_count": 31,
   "metadata": {},
   "outputs": [],
   "source": [
    "network = ElmanNetwork(D, 1000).to(device)\n",
    "\n",
    "with torch.no_grad():\n",
    "  test_input = torch.empty(7, 25, D, device=device) # B=7 S=25\n",
    "  test_output = network(test_input)\n",
    "  assert test_input.shape == test_output.shape"
   ]
  },
  {
   "attachments": {},
   "cell_type": "markdown",
   "metadata": {},
   "source": [
    "### Task 6: Training Loop\n",
    "\n",
    "To train the Elman network, we will use categorical cross-entropy loss, averaged over all samples in the sequence.\n",
    "For each batch, we can optionally use a different sequence size -- while the size inside a batch must stay the same.\n",
    "\n",
    "According to the PyTorch documentation, the `CrossEntropyLoss` handles logits and targets in shape $B\\times O\\times\\ldots$.\n",
    "In our case, logits and targets are in dimension $B\\times S\\times O$.\n",
    "Hence, we need to make sure that we re-order the indexes such that we fulfil the requirement; you might want to use the `permute` or `transpose` operator.\n",
    "\n",
    "WARNING: `CrossEntropyLoss` will not complain when the index order for the output $\\mathcal Y$ and targets $\\mathcal T$ is incorrect, just the results will be wrong."
   ]
  },
  {
   "cell_type": "code",
   "execution_count": 41,
   "metadata": {},
   "outputs": [
    {
     "name": "stdout",
     "output_type": "stream",
     "text": [
      "Epoch 1; train loss: 0.16817878\n",
      "Epoch 2; train loss: 0.19477950\n",
      "Epoch 3; train loss: 0.37682392\n",
      "Epoch 4; train loss: 0.13245605\n",
      "Epoch 5; train loss: 0.13685521\n",
      "Epoch 6; train loss: 0.15422275\n",
      "Epoch 7; train loss: 0.10084764\n",
      "Epoch 8; train loss: 0.10984818\n",
      "Epoch 9; train loss: 0.09482982\n",
      "Epoch 10; train loss: 0.13858871\n",
      "Epoch 11; train loss: 0.13547732\n",
      "Epoch 12; train loss: 0.22919975\n",
      "Epoch 13; train loss: 0.12030151\n",
      "Epoch 14; train loss: 0.11758741\n",
      "Epoch 15; train loss: 0.09885477\n",
      "Epoch 16; train loss: 0.37976805\n",
      "Epoch 17; train loss: 0.13351345\n",
      "Epoch 18; train loss: 0.25034384\n",
      "Epoch 19; train loss: 0.09269733\n",
      "Epoch 20; train loss: 0.14125960\n"
     ]
    }
   ],
   "source": [
    "network = ElmanNetwork(D, 1000).to(device)\n",
    "optimizer = torch.optim.Adam(network.parameters(), lr=1e-4)\n",
    "loss_func = torch.nn.CrossEntropyLoss()\n",
    "\n",
    "for epoch in range(20):\n",
    "  # create random sequence\n",
    "  dataset.S = torch.randint(5, 20, (1,))\n",
    "  train_loss = 0.\n",
    "\n",
    "  for x, t in data_loader:\n",
    "    # compute network output\n",
    "    z = network(x.to(device)).permute(0, 2, 1)\n",
    "    # compute loss, arrange order of logits and targets\n",
    "    J = loss_func(z, t.to(device).permute(0, 2, 1))\n",
    "    # compute gradient for this batch\n",
    "    optimizer.zero_grad()\n",
    "    J.backward()\n",
    "    optimizer.step()\n",
    "\n",
    "    train_loss += J.item() * x.shape[0] / x.shape[1]\n",
    "\n",
    "  # print average loss for training and validation\n",
    "  print(f\"\\rEpoch {epoch+1}; train loss: {train_loss/len(data_loader):1.8f}\")"
   ]
  },
  {
   "attachments": {},
   "cell_type": "markdown",
   "metadata": {},
   "source": [
    "## Writing a Poem\n",
    "\n",
    "With the trained network, we will turn it into a poet. \n",
    "Given some initial seed strings, we let the network predict the next character, which we append to our text. We repeat this process until we have produced a given string size.\n",
    "\n",
    "For this purpose, we need to implement three functions. \n",
    "The first function needs to turn a given text into something that the network understands as input. \n",
    "The second function needs to interpret the network output, i.e., it needs to select a character from the predicted logits. \n",
    "There, we can implement two ways:\n",
    "1. We take the character with the highest predicted class:\n",
    "$$o^* = \\argmax_o \\vec y^{\\{S\\}}_o$$\n",
    "2. We can also perform probability sampling, where each of the sample is drawn based on the probability that SoftMax provides -- such a function is for example implemented in `random.choices`.\n",
    "\n",
    "Finally, we need to implement a function to iterstively call the encoding and prediction functions."
   ]
  },
  {
   "attachments": {},
   "cell_type": "markdown",
   "metadata": {},
   "source": [
    "### Task 7: Text Encoding\n",
    "\n",
    "For a given text (a sequence of $S$ characters), provide the encoding $\\mathcal X \\in R^{B\\times S\\times D}$.\n",
    "Assure that the batch dimension for $B=1$ is added to the encoding, so that the network is able to handle it."
   ]
  },
  {
   "cell_type": "code",
   "execution_count": 42,
   "metadata": {},
   "outputs": [],
   "source": [
    "def encode(text):\n",
    "  encoding = torch.zeros((1, len(text), D))\n",
    "  for idx, c in enumerate(text.lower()):\n",
    "    encoding[0, idx] = one_hot[c]\n",
    "  return encoding"
   ]
  },
  {
   "attachments": {},
   "cell_type": "markdown",
   "metadata": {},
   "source": [
    "### Task 8: Next Element Prediction\n",
    "\n",
    "Write a function that predicts the next character of the sequence based on the logit values obtained from the network.\n",
    "Implement both ways:\n",
    "1. Using the maximum probability, i.e., selecting the character with the highest SoftMax probability $\\max_o z^{\\{S\\}}_o$ and append this character to the `text`.\n",
    "2. Using a probability sampling, i.e., we randomly draw a character based on the SoftMax probability distribution $\\vec y^{\\{S\\}}$. `random.choices` provides the possibility to pass a list of characters and a list of probabilities.\n",
    "\n",
    "Use the Boolean parameter `use_best` of your function to distinguish the two cases. \n",
    "\n",
    "Note:\n",
    "\n",
    "* In our case, we are only interested in the logit for the last element of our sequences, i.e., $\\vec z^{\\{S\\}}$.\n",
    "* The logits are in dimension $\\mathcal Z \\in \\mathbb R^{B\\times S\\times D}$ with $B=1$, and we are generally only interested in the prediction for the last sequence item."
   ]
  },
  {
   "cell_type": "code",
   "execution_count": 43,
   "metadata": {},
   "outputs": [],
   "source": [
    "def predict(z, use_best=True):\n",
    "  # select the appropriate logits\n",
    "  z_S = z[0][-1]\n",
    "  probs = torch.softmax(z_S, dim=0)\n",
    "  if use_best:\n",
    "    # take character with maximum probability\n",
    "    next_char = characters[torch.argmax(probs)]\n",
    "  else:\n",
    "    # sample character based on class probabilities\n",
    "    next_char = random.choices(characters, weights=probs.detach())[0]\n",
    "  return next_char"
   ]
  },
  {
   "attachments": {},
   "cell_type": "markdown",
   "metadata": {},
   "source": [
    "### Task 9: Sequence Completion\n",
    "\n",
    "\n",
    "Write a function that takes a `seed` text which it will complete with the given number of characters.\n",
    "Write a loop that turns the current `text` into an encoded sequence of its characters using the function from Task 7.\n",
    "Forward the text through the network and take the prediction of the last sequence item $\\vec z^{\\{S\\}}$ using the function from Task 8.\n",
    "Append this to the current text (remember that Python strings are immutable).\n",
    "Repeat this loop 80 times, and return the resulting `text`."
   ]
  },
  {
   "cell_type": "code",
   "execution_count": 44,
   "metadata": {},
   "outputs": [],
   "source": [
    "def sequence_completion(seed, count, use_best):\n",
    "  # we start with the given seed\n",
    "  text = seed\n",
    "  for i in range(count):\n",
    "    # turn current text to one-hot batch\n",
    "    x = encode(text) # [1, S, D]\n",
    "    # predict the next character\n",
    "    next_char = predict(network(x.to(device)), use_best=use_best)\n",
    "    # append character to text\n",
    "    text += next_char\n",
    "    \n",
    "  return text"
   ]
  },
  {
   "attachments": {},
   "cell_type": "markdown",
   "metadata": {},
   "source": [
    "### Task 10: Text Production\n",
    "\n",
    "Select several seeds (such as `\"thi\", \"ba\", \"wea\", \"tru\", \"sum\", \"q\"`) and let the network predict the following 80 most probable characters, or using probability sampling.\n",
    "Write the completed sentences to console."
   ]
  },
  {
   "cell_type": "code",
   "execution_count": 46,
   "metadata": {},
   "outputs": [
    {
     "name": "stdout",
     "output_type": "stream",
     "text": [
      "\"thi\" -> \"thing the world which in the carest of the stare the world which in the carest of t\"\n",
      "\"thi\" -> \"think dead,edeeds no bran,and look in mhy doft thou do toughenks wial yet give then\"\n",
      "\"ba\" -> \"bate,which stould thou the self thou hast thou the seem to thy sweet self thou has\"\n",
      "\"ba\" -> \"bare dreagure,the wiendes roses bress'sify,  heve pays asplicite of thin wornd, us\"\n",
      "\"wea\" -> \"wear that which it the world will be the store,then thou art to steal thee all the \"\n",
      "\"wea\" -> \"weat the self rudw,and for a joware follow the jay demiguted.then in rack belight t\"\n",
      "\"tru\" -> \"true my have sweet forthough the strength seem to the earth and heart that the worl\"\n",
      "\"tru\" -> \"true seem prescreaken, lloke with pary prizing of diswerced reamon's thy tommon ap \"\n",
      "\"sum\" -> \"sume the world will be the stare of shall the world which in the carest of the star\"\n",
      "\"sum\" -> \"summer's bobded sequine etsint would canse.how if thou for ruptily,and so self wo p\"\n",
      "\"q\" -> \"quest of the world will be the store,the world me than thou art to the world with\"\n",
      "\"q\" -> \"quith not, not,in all not the coptthis med act a sace made,bur for o sweet like f\"\n"
     ]
    }
   ],
   "source": [
    "seeds = [\"thi\", \"ba\", \"wea\", \"tru\", \"sum\", \"q\"]\n",
    "count = 80\n",
    "\n",
    "with torch.no_grad():\n",
    "  for seed in seeds:\n",
    "    best = sequence_completion(seed, count, use_best=True)\n",
    "    # print seed and text\n",
    "    print (f\"\\\"{seed}\\\" -> \\\"{best}\\\"\")\n",
    "    sampled = sequence_completion(seed, count, use_best=False)\n",
    "    # print seed and text\n",
    "    print (f\"\\\"{seed}\\\" -> \\\"{sampled}\\\"\")"
   ]
  }
 ],
 "metadata": {
  "interpreter": {
   "hash": "a29cabff5744fce69e08a959ab87b9e77a9f67b498d08783caa8c3bb16f23a00"
  },
  "kernelspec": {
   "display_name": "Python 3.8.10 ('DL')",
   "language": "python",
   "name": "python3"
  },
  "language_info": {
   "codemirror_mode": {
    "name": "ipython",
    "version": 3
   },
   "file_extension": ".py",
   "mimetype": "text/x-python",
   "name": "python",
   "nbconvert_exporter": "python",
   "pygments_lexer": "ipython3",
   "version": "3.10.7"
  },
  "orig_nbformat": 4
 },
 "nbformat": 4,
 "nbformat_minor": 2
}
